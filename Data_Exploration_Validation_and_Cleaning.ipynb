{
  "nbformat": 4,
  "nbformat_minor": 0,
  "metadata": {
    "colab": {
      "provenance": [],
      "include_colab_link": true
    },
    "kernelspec": {
      "name": "python3",
      "display_name": "Python 3"
    },
    "language_info": {
      "name": "python"
    }
  },
  "cells": [
    {
      "cell_type": "markdown",
      "metadata": {
        "id": "view-in-github",
        "colab_type": "text"
      },
      "source": [
        "<a href=\"https://colab.research.google.com/github/akashjain637/akash-sonam/blob/main/Data_Exploration_Validation_and_Cleaning.ipynb\" target=\"_parent\"><img src=\"https://colab.research.google.com/assets/colab-badge.svg\" alt=\"Open In Colab\"/></a>"
      ]
    },
    {
      "cell_type": "code",
      "source": [
        "import matplotlib.pyplot as plt\n",
        "import pandas as pd\n",
        "import seaborn as sns"
      ],
      "metadata": {
        "id": "d6ckZt9dqZQi"
      },
      "execution_count": 4,
      "outputs": []
    },
    {
      "cell_type": "markdown",
      "metadata": {
        "id": "qQD1LWFDGwLR"
      },
      "source": [
        "# Import Give me some Credit\\cs-training.csv"
      ]
    },
    {
      "cell_type": "code",
      "source": [],
      "metadata": {
        "id": "F7-2cyrqo6vR"
      },
      "execution_count": null,
      "outputs": []
    },
    {
      "cell_type": "code",
      "metadata": {
        "id": "MUrAq-D0GtzX"
      },
      "source": [
        "loans=pd.read_csv(\"https://raw.githubusercontent.com/venkatareddykonasani/Datasets/master/Give%20me%20some%20Credit/cs-training.csv\")"
      ],
      "execution_count": 2,
      "outputs": []
    },
    {
      "cell_type": "code",
      "metadata": {
        "id": "JoB6jGmLtvSt",
        "colab": {
          "base_uri": "https://localhost:8080/"
        },
        "outputId": "f5684ec9-110f-433f-de22-2a50de7cf6ce"
      },
      "source": [
        "loans.info()"
      ],
      "execution_count": 3,
      "outputs": [
        {
          "output_type": "stream",
          "name": "stdout",
          "text": [
            "<class 'pandas.core.frame.DataFrame'>\n",
            "RangeIndex: 150000 entries, 0 to 149999\n",
            "Data columns (total 12 columns):\n",
            " #   Column                                Non-Null Count   Dtype  \n",
            "---  ------                                --------------   -----  \n",
            " 0   Sr_No                                 150000 non-null  int64  \n",
            " 1   SeriousDlqin2yrs                      150000 non-null  int64  \n",
            " 2   monthly_utilization                   150000 non-null  float64\n",
            " 3   age                                   150000 non-null  int64  \n",
            " 4   NumberOfTime30-59DaysPastDueNotWorse  150000 non-null  int64  \n",
            " 5   DebtRatio                             150000 non-null  float64\n",
            " 6   MonthlyIncome                         120269 non-null  float64\n",
            " 7   NumberOfOpenCreditLinesAndLoans       150000 non-null  int64  \n",
            " 8   NumberOfTimes90DaysLate               150000 non-null  int64  \n",
            " 9   NumberRealEstateLoansOrLines          150000 non-null  int64  \n",
            " 10  NumberOfTime60-89DaysPastDueNotWorse  150000 non-null  int64  \n",
            " 11  NumberOfDependents                    146076 non-null  float64\n",
            "dtypes: float64(4), int64(8)\n",
            "memory usage: 13.7 MB\n"
          ]
        }
      ]
    },
    {
      "cell_type": "code",
      "metadata": {
        "id": "cxPOj-WGG_FW"
      },
      "source": [
        "#What are number of rows and columns\n",
        "loans.shape"
      ],
      "execution_count": null,
      "outputs": []
    },
    {
      "cell_type": "code",
      "metadata": {
        "id": "juhGnYpCHYaW"
      },
      "source": [
        "#Are there any suspicious variables?\n",
        "loans.columns.values"
      ],
      "execution_count": null,
      "outputs": []
    },
    {
      "cell_type": "code",
      "metadata": {
        "id": "Aoq0EXaDHZht"
      },
      "source": [
        "#Display the variable formats\n",
        "loans.dtypes"
      ],
      "execution_count": null,
      "outputs": []
    },
    {
      "cell_type": "code",
      "metadata": {
        "id": "kocke9VpHaqS"
      },
      "source": [
        "#Print the first 10 observations\n",
        "loans.head(10)"
      ],
      "execution_count": null,
      "outputs": []
    },
    {
      "cell_type": "code",
      "metadata": {
        "id": "t4DgO4q5Hd8S"
      },
      "source": [
        "#Do we have any unique identifier?\n",
        "loans.columns.values"
      ],
      "execution_count": null,
      "outputs": []
    },
    {
      "cell_type": "markdown",
      "metadata": {
        "id": "ATtndMPSHg9r"
      },
      "source": [
        "# Categorical variables exploration"
      ]
    },
    {
      "cell_type": "code",
      "metadata": {
        "id": "S7SiwZFRHfNC"
      },
      "source": [
        "#What are the categorical and discrete variables? What are the continues variables.\n",
        "loans.dtypes\n",
        "loans.head()\n"
      ],
      "execution_count": null,
      "outputs": []
    },
    {
      "cell_type": "code",
      "metadata": {
        "id": "ASIxF0pWHlAX"
      },
      "source": [
        "print(loans['SeriousDlqin2yrs'].value_counts())\n",
        "sns.countplot(y=\"SeriousDlqin2yrs\",  data=loans)"
      ],
      "execution_count": null,
      "outputs": []
    },
    {
      "cell_type": "code",
      "metadata": {
        "id": "JRAEoJwoHm7y"
      },
      "source": [
        "print(loans['age'].value_counts())\n",
        "sns.countplot(y=\"age\",  data=loans)"
      ],
      "execution_count": null,
      "outputs": []
    },
    {
      "cell_type": "code",
      "metadata": {
        "id": "7GQ5Dz4THnAB"
      },
      "source": [
        "print(loans['NumberOfTime30-59DaysPastDueNotWorse'].value_counts())\n",
        "sns.countplot(y=\"NumberOfTime30-59DaysPastDueNotWorse\",  data=loans)"
      ],
      "execution_count": null,
      "outputs": []
    },
    {
      "cell_type": "code",
      "metadata": {
        "id": "B48hDm6FHnGr"
      },
      "source": [
        "print(loans['NumberOfOpenCreditLinesAndLoans'].value_counts())\n",
        "sns.countplot(y=\"NumberOfOpenCreditLinesAndLoans\",  data=loans)"
      ],
      "execution_count": null,
      "outputs": []
    },
    {
      "cell_type": "code",
      "metadata": {
        "id": "92spjYIMHqZi"
      },
      "source": [
        "print(loans['NumberOfTimes90DaysLate'].value_counts())\n",
        "sns.countplot(y=\"NumberOfTimes90DaysLate\",  data=loans)"
      ],
      "execution_count": null,
      "outputs": []
    },
    {
      "cell_type": "code",
      "metadata": {
        "id": "4LP5V2szHqgt"
      },
      "source": [
        "print(loans['NumberRealEstateLoansOrLines'].value_counts())\n",
        "sns.countplot(y=\"NumberRealEstateLoansOrLines\",  data=loans)"
      ],
      "execution_count": null,
      "outputs": []
    },
    {
      "cell_type": "code",
      "metadata": {
        "id": "yChuq-YtHqlD"
      },
      "source": [
        "print(loans['NumberOfTime60-89DaysPastDueNotWorse'].value_counts())\n",
        "sns.countplot(y=\"NumberOfTime60-89DaysPastDueNotWorse\",  data=loans)"
      ],
      "execution_count": null,
      "outputs": []
    },
    {
      "cell_type": "code",
      "metadata": {
        "id": "0U4zdFxVHqqg"
      },
      "source": [
        "print(loans['NumberOfDependents'].value_counts())\n",
        "sns.countplot(y=\"NumberOfDependents\",  data=loans)"
      ],
      "execution_count": null,
      "outputs": []
    },
    {
      "cell_type": "code",
      "metadata": {
        "id": "26fUFKC_Hx3f"
      },
      "source": [
        "#Are there any   variables with missing values?\n",
        "loans.isnull().sum()"
      ],
      "execution_count": null,
      "outputs": []
    },
    {
      "cell_type": "markdown",
      "metadata": {
        "id": "kySyhDctI99D"
      },
      "source": [
        "# Continuous variables exploration"
      ]
    },
    {
      "cell_type": "markdown",
      "metadata": {
        "id": "eJ-UyFTdJLml"
      },
      "source": [
        "## RevolvingUtilizationOfUnsecuredLines"
      ]
    },
    {
      "cell_type": "code",
      "source": [
        "plt.boxplot(loans[\"monthly_utilization\"])"
      ],
      "metadata": {
        "id": "fecfoOK4xpPc"
      },
      "execution_count": null,
      "outputs": []
    },
    {
      "cell_type": "code",
      "source": [
        "plt.hist(loans[\"monthly_utilization\"])"
      ],
      "metadata": {
        "id": "ieOUOfyPyZUF"
      },
      "execution_count": null,
      "outputs": []
    },
    {
      "cell_type": "code",
      "metadata": {
        "id": "Al7hSnjAJJ1K"
      },
      "source": [
        "util_percentiles=loans['monthly_utilization'].quantile([0.05, 0.1, 0.25, 0.5, 0.75, 0.80, 0.9,0.91,0.95,0.96,0.97,0.975,0.98,0.99,1])\n",
        "round(util_percentiles,2)"
      ],
      "execution_count": null,
      "outputs": []
    },
    {
      "cell_type": "markdown",
      "metadata": {
        "id": "q1U2Cez3JOze"
      },
      "source": [
        "## MonthlyIncome"
      ]
    },
    {
      "cell_type": "code",
      "metadata": {
        "id": "Abjkb5OrH3ss"
      },
      "source": [
        "#loans.boxplot(column=\"MonthlyIncome\")\n",
        "non_null_monthly_income=loans[\"MonthlyIncome\"][loans[\"MonthlyIncome\"].isnull()==False]\n",
        "plt.boxplot(non_null_monthly_income)"
      ],
      "execution_count": null,
      "outputs": []
    },
    {
      "cell_type": "code",
      "source": [
        "plt.hist(loans[\"MonthlyIncome\"])"
      ],
      "metadata": {
        "id": "86nmjMmXz5W8"
      },
      "execution_count": null,
      "outputs": []
    },
    {
      "cell_type": "code",
      "metadata": {
        "id": "0eR1mifsH7it"
      },
      "source": [
        "#Find the percentage of missing values\n",
        "print(\"Count of missing values\")\n",
        "print(loans['MonthlyIncome'].isnull().sum())\n",
        "print(\"% of missing values\")\n",
        "print(round(loans['MonthlyIncome'].isnull().sum()/len(loans),2))"
      ],
      "execution_count": null,
      "outputs": []
    },
    {
      "cell_type": "markdown",
      "metadata": {
        "id": "SI34aZHyIIZ2"
      },
      "source": [
        "# Data Cleaning Scenario-1"
      ]
    },
    {
      "cell_type": "code",
      "metadata": {
        "id": "7Qp4yfMqIC0T"
      },
      "source": [
        "util_percentiles=loans['monthly_utilization'].quantile([0.05, 0.1, 0.25, 0.5, 0.75, 0.80, 0.9,0.91,0.95,0.96,0.97,0.975,0.98,0.99,1])\n",
        "round(util_percentiles,2)"
      ],
      "execution_count": null,
      "outputs": []
    },
    {
      "cell_type": "code",
      "metadata": {
        "id": "Ho2AAs75IHQv"
      },
      "source": [
        "median_util=loans['monthly_utilization'].median()\n",
        "median_util"
      ],
      "execution_count": null,
      "outputs": []
    },
    {
      "cell_type": "code",
      "metadata": {
        "id": "y4brogxmIL1d"
      },
      "source": [
        "util_temp_bool_vect=loans['monthly_utilization']>1\n",
        "\n",
        "loans['util_new']=loans['monthly_utilization']\n",
        "loans['util_new'][util_temp_bool_vect]=median_util"
      ],
      "execution_count": null,
      "outputs": []
    },
    {
      "cell_type": "code",
      "metadata": {
        "id": "ipafFm7jINkR"
      },
      "source": [
        "# percentile distribution for new variable\n",
        "util_percentiles1=loans['util_new'].quantile([0.05, 0.1, 0.25, 0.5, 0.75, 0.80, 0.9,0.91,0.95,0.96,0.97,0.975,0.98,0.99,1])\n",
        "round(util_percentiles1,2)\n"
      ],
      "execution_count": null,
      "outputs": []
    },
    {
      "cell_type": "markdown",
      "metadata": {
        "id": "g85fzJKkIW4K"
      },
      "source": [
        "# Data Cleaning Scenario-2"
      ]
    },
    {
      "cell_type": "code",
      "metadata": {
        "id": "ZrV7vDSrITYd"
      },
      "source": [
        "freq_table_30dpd=loans['NumberOfTime30-59DaysPastDueNotWorse'].value_counts()\n",
        "freq_table_30dpd"
      ],
      "execution_count": null,
      "outputs": []
    },
    {
      "cell_type": "code",
      "metadata": {
        "id": "LD--xgxKIaAY"
      },
      "source": [
        "#Clean the variable- Look at the cross tab of variable vs target. Impute based on target .\n",
        "#Cross tab with target\n",
        "import pandas as pd\n",
        "cross_tab_30dpd_target=pd.crosstab(loans['NumberOfTime30-59DaysPastDueNotWorse'],loans['SeriousDlqin2yrs'])\n",
        "cross_tab_30dpd_target"
      ],
      "execution_count": null,
      "outputs": []
    },
    {
      "cell_type": "code",
      "metadata": {
        "id": "kLS2oz3EIdp2"
      },
      "source": [
        "#Cross tab row Percentages\n",
        "cross_tab_30dpd_target_percent=cross_tab_30dpd_target.apply(lambda x: x/x.sum(), axis=1)\n",
        "round(cross_tab_30dpd_target_percent,2)"
      ],
      "execution_count": null,
      "outputs": []
    },
    {
      "cell_type": "code",
      "metadata": {
        "id": "NpkLjBo_IfOG"
      },
      "source": [
        "\n",
        "#Percentage of 0 and 1 are of 98 is near to percentages of 6.\n",
        "#Replacing error values with 6\n",
        "\n",
        "loans['num_30_59_dpd_new']=loans['NumberOfTime30-59DaysPastDueNotWorse']\n",
        "loans['num_30_59_dpd_new'][loans['num_30_59_dpd_new']>13]=6\n",
        "loans['num_30_59_dpd_new']\n",
        "\n",
        "loans['num_30_59_dpd_new'].value_counts()"
      ],
      "execution_count": null,
      "outputs": []
    },
    {
      "cell_type": "markdown",
      "metadata": {
        "id": "5-XFPxbxIlBM"
      },
      "source": [
        "# Data Cleaning Scenario-3"
      ]
    },
    {
      "cell_type": "code",
      "metadata": {
        "id": "6ko-XzkeIjR6"
      },
      "source": [
        "#Find the missing value percentage in monthly income\n",
        "loans['MonthlyIncome'].isnull().sum()\n",
        "loans['MonthlyIncome'].isnull().sum()/len(loans)\n",
        "#Once identified where missing values exist, the next task usually is to fill them (data imputation). Depending upon the context,\n",
        "#in this case, I am assigning median value to all those positions where missing value is present:\n"
      ],
      "execution_count": null,
      "outputs": []
    },
    {
      "cell_type": "code",
      "metadata": {
        "id": "nSA-Kb7HIojq"
      },
      "source": [
        "#Flag variable\n",
        "loans['MonthlyIncome_ind']=1\n",
        "loans['MonthlyIncome_ind'][loans['MonthlyIncome'].isnull()]=0\n",
        "loans['MonthlyIncome_ind'].value_counts()\n"
      ],
      "execution_count": null,
      "outputs": []
    },
    {
      "cell_type": "code",
      "metadata": {
        "id": "gfwFxqDEIpoG"
      },
      "source": [
        "#Imputation with median\n",
        "loans['MonthlyIncome_new']=loans['MonthlyIncome']\n",
        "loans['MonthlyIncome_new'][loans['MonthlyIncome'].isnull()]=loans['MonthlyIncome'].median()\n",
        "round(loans['MonthlyIncome_new'].describe())"
      ],
      "execution_count": null,
      "outputs": []
    }
  ]
}